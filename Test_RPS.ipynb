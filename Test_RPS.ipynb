{
 "cells": [
  {
   "cell_type": "code",
   "execution_count": 1,
   "metadata": {},
   "outputs": [],
   "source": [
    "import tensorflow\n",
    "import cv2\n",
    "from keras.models import load_model\n",
    "import time\n",
    "import random "
   ]
  },
  {
   "cell_type": "code",
   "execution_count": 2,
   "metadata": {},
   "outputs": [
    {
     "name": "stderr",
     "output_type": "stream",
     "text": [
      "2022-03-15 00:36:59.914867: I tensorflow/core/platform/cpu_feature_guard.cc:142] This TensorFlow binary is optimized with oneAPI Deep Neural Network Library (oneDNN) to use the following CPU instructions in performance-critical operations:  AVX2 FMA\n",
      "To enable them in other operations, rebuild TensorFlow with the appropriate compiler flags.\n"
     ]
    },
    {
     "name": "stdout",
     "output_type": "stream",
     "text": [
      "WARNING:tensorflow:No training configuration found in the save file, so the model was *not* compiled. Compile it manually.\n"
     ]
    }
   ],
   "source": [
    "model = load_model('YOUR_MODEL.h5')"
   ]
  },
  {
   "cell_type": "code",
   "execution_count": 3,
   "metadata": {},
   "outputs": [],
   "source": [
    "import numpy as np"
   ]
  },
  {
   "cell_type": "code",
   "execution_count": 4,
   "metadata": {},
   "outputs": [
    {
     "name": "stderr",
     "output_type": "stream",
     "text": [
      "2022-03-15 00:37:12.170060: I tensorflow/compiler/mlir/mlir_graph_optimization_pass.cc:185] None of the MLIR Optimization Passes are enabled (registered 2)\n"
     ]
    }
   ],
   "source": [
    "your_options = ['nothing', 'paper', 'rock', 'scissors']\n",
    "def player_choice_prediction(prediction):  \n",
    "                if prediction[0][0] > 0.5:\n",
    "                    player_choice = your_options[0]\n",
    "                elif prediction[0][1] > 0.5:\n",
    "                    player_choice = your_options[1]\n",
    "                elif prediction[0][2] > 0.5:\n",
    "                    player_choice = your_options[2]\n",
    "                else:\n",
    "                    player_choice = your_options[3]\n",
    "                return player_choice\n",
    "\n",
    "def compare_ans(player_choice, player_score, comp_score):\n",
    "                computer_choice = random.choice(['rock', 'paper', 'scissors', 'nothing'])\n",
    "                if player_choice == 'paper' :\n",
    "                    if computer_choice == 'paper' : \n",
    "                          message_1 = 'It is a draw'\n",
    "                          comp_score = player_score = False\n",
    "                    elif computer_choice == 'scissors':\n",
    "                          message_1 = 'sorry you lost'\n",
    "                          comp_score = True\n",
    "                    elif computer_choice == 'rock':\n",
    "                          message_1 = 'you won mate!'\n",
    "                          player_score = True\n",
    "                    else:\n",
    "                          message_1 = 'please try again'\n",
    "                          comp_score = player_score = False      \n",
    "                elif player_choice == 'rock':\n",
    "                    if computer_choice == 'scissors':\n",
    "                          message_1 = 'you won mate!!'\n",
    "                          player_score = True\n",
    "                    elif computer_choice == 'rock':\n",
    "                          message_1 = 'it is a draw'\n",
    "                          comp_score = player_score = False\n",
    "                    elif computer_choice == 'paper':\n",
    "                          message_1 = 'sorry you lost'\n",
    "                          comp_score = True\n",
    "                    else:\n",
    "                          message_1 = 'please try again'\n",
    "                          comp_score = player_score = False   \n",
    "                elif player_choice == 'scissors':\n",
    "                    if computer_choice == 'paper':\n",
    "                          message_1 = 'you won mate!'\n",
    "                          player_score = True\n",
    "                    elif computer_choice == 'rock':\n",
    "                          message_1 = 'sorry you lost'\n",
    "                          comp_score = True\n",
    "                    elif computer_choice == 'scissors':\n",
    "                          message_1 = 'it is a draw'\n",
    "                          comp_score = player_score = False\n",
    "                    else:\n",
    "                          message_1 = 'please try again'\n",
    "                          comp_score = player_score = False\n",
    "                elif player_choice == 'nothing':\n",
    "                    if computer_choice == 'rock' or 'paper' or 'scissors' or 'nothing':\n",
    "                        message_1 = 'please try again'\n",
    "                        comp_score = player_score = False\n",
    "                return computer_choice, message_1, player_score, comp_score\n",
    "\n",
    "cap = cv2.VideoCapture(0)\n",
    "data = np.ndarray(shape=(1, 224, 224, 3), dtype=np.float32)\n",
    "started = False\n",
    "countdown = False\n",
    "counter = 0\n",
    "elapsed = 0\n",
    "flag = True\n",
    "comp_score_no = 0\n",
    "player_score_no = 0\n",
    "\n",
    "message = ''\n",
    "while True:\n",
    "    ret, frame= cap.read()\n",
    "    resized_frame = cv2.resize(frame, (224, 224), interpolation = cv2.INTER_AREA)\n",
    "    cv2.putText(frame,message, (30,30), cv2.FONT_HERSHEY_DUPLEX, 0.75, (0, 0, 255), 1)\n",
    "    image_np = np.array(resized_frame)\n",
    "    normalized_image = (image_np.astype(np.float32) / 127.0) - 1\n",
    "    data[0] = normalized_image\n",
    "    cv2.imshow('frame', frame)\n",
    "    if not started:\n",
    "        message = 'Press k to start'\n",
    "    if cv2.waitKey(20) == ord('k'):\n",
    "        if  not started:\n",
    "            counter = time.time()\n",
    "            started = True\n",
    "            countdown = True\n",
    "    if started:\n",
    "        elapsed = 4 - (time.time() - counter)\n",
    "        if not countdown:\n",
    "\n",
    "                \n",
    "            if int(elapsed) <= -6:\n",
    "                    message = 'press o to play the next round'\n",
    "            \n",
    "            if cv2.waitKey(20) == ord('o'):\n",
    "                    started = False \n",
    "                    elapsed = 0 \n",
    "                    flag = True  \n",
    "                    countdown = False   \n",
    "        \n",
    "        elif not flag:\n",
    "            countdown = False\n",
    "            comp_score = False\n",
    "            player_score = False\n",
    "            prediction = model.predict(data)\n",
    "            player_choice = prediction.argmax\n",
    "            player_func = player_choice_prediction(prediction)\n",
    "            comp_func = compare_ans(player_func, player_score, comp_score) \n",
    "            if comp_func[2] == True:\n",
    "                player_score_no += 1\n",
    "                message = f'the computer showed {comp_func[0]}, and you showed {player_func}, so {comp_func[1]} And score = {player_score_no}.'\n",
    "                if player_score_no == 3:\n",
    "                    message = 'Marvellous you won 3 rounds!! press q to close the game or carry on.'\n",
    "            elif comp_func[3] == True:\n",
    "                comp_score_no += 1   \n",
    "                message = f'the computer showed {comp_func[0]}, and you showed {player_func}, so {comp_func[1]} and computer score = {comp_score_no}.'\n",
    "                if comp_score_no == 3:\n",
    "                    message = 'The computer won 3 rounds :(, press q to close the game.'\n",
    "            elif comp_func[2] == comp_func[3] == False:\n",
    "                message = f'the computer showed {comp_func[0]}, and you showed {player_func}, so {comp_func[1]}.'\n",
    "        if countdown:\n",
    "            message = f'show your hand in {int(elapsed)} seconds'\n",
    "            \n",
    "            if int(elapsed) <= 0:\n",
    "                flag = False\n",
    "\n",
    "        \n",
    "\n",
    "    if cv2.waitKey(1) & 0xFF == ord('q'):\n",
    "       break\n",
    "\n",
    "# After the loop release the cap object\n",
    "cap.release()\n",
    "# Destroy all the windows\n",
    "cv2.destroyAllWindows()\n"
   ]
  }
 ],
 "metadata": {
  "interpreter": {
   "hash": "f5283efd964521479c1e2675867ad3fd27fa7e3df3e3049d84d50d2b95e92885"
  },
  "kernelspec": {
   "display_name": "Python 3.9.10 ('test')",
   "language": "python",
   "name": "python3"
  },
  "language_info": {
   "codemirror_mode": {
    "name": "ipython",
    "version": 3
   },
   "file_extension": ".py",
   "mimetype": "text/x-python",
   "name": "python",
   "nbconvert_exporter": "python",
   "pygments_lexer": "ipython3",
   "version": "3.9.10"
  },
  "orig_nbformat": 4
 },
 "nbformat": 4,
 "nbformat_minor": 2
}
